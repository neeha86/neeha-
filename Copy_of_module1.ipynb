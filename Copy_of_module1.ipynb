{
  "nbformat": 4,
  "nbformat_minor": 0,
  "metadata": {
    "colab": {
      "name": "Copy of module1",
      "provenance": [],
      "collapsed_sections": [],
      "include_colab_link": true
    },
    "kernelspec": {
      "name": "python3",
      "display_name": "Python 3"
    }
  },
  "cells": [
    {
      "cell_type": "markdown",
      "metadata": {
        "id": "view-in-github",
        "colab_type": "text"
      },
      "source": [
        "<a href=\"https://colab.research.google.com/github/neeha86/neeha-/blob/main/Copy_of_module1.ipynb\" target=\"_parent\"><img src=\"https://colab.research.google.com/assets/colab-badge.svg\" alt=\"Open In Colab\"/></a>"
      ]
    },
    {
      "cell_type": "markdown",
      "metadata": {
        "id": "OVUXmyadZ03h"
      },
      "source": [
        "basics"
      ]
    },
    {
      "cell_type": "code",
      "metadata": {
        "id": "-BwgMvmwqExM",
        "outputId": "0ae2d0e2-e85d-4abb-97b5-f4c55e11a158",
        "colab": {
          "base_uri": "https://localhost:8080/",
          "height": 34
        }
      },
      "source": [
        "print(\"hello world\")"
      ],
      "execution_count": null,
      "outputs": [
        {
          "output_type": "stream",
          "text": [
            "hello world\n"
          ],
          "name": "stdout"
        }
      ]
    },
    {
      "cell_type": "code",
      "metadata": {
        "id": "LuL406E8qoXv",
        "outputId": "775394c4-7453-485e-907d-c52756dca9a2",
        "colab": {
          "base_uri": "https://localhost:8080/",
          "height": 50
        }
      },
      "source": [
        "a=2\n",
        "b=3\n",
        "c=4\n",
        "#456\n",
        "print(b+c)\n",
        "print(a+b)"
      ],
      "execution_count": null,
      "outputs": [
        {
          "output_type": "stream",
          "text": [
            "7\n",
            "5\n"
          ],
          "name": "stdout"
        }
      ]
    },
    {
      "cell_type": "markdown",
      "metadata": {
        "id": "dKoV6kBPaFkb"
      },
      "source": [
        "mon,oct 26"
      ]
    },
    {
      "cell_type": "code",
      "metadata": {
        "id": "KWgHCM6haRHF",
        "outputId": "2712fec8-f002-4938-bb05-d34057c3584e",
        "colab": {
          "base_uri": "https://localhost:8080/",
          "height": 50
        }
      },
      "source": [
        "x=5\n",
        "y=10\n",
        "print(x,y)\n",
        "temp=x\n",
        "x=y\n",
        "y=temp\n",
        "print(x,y)"
      ],
      "execution_count": null,
      "outputs": [
        {
          "output_type": "stream",
          "text": [
            "5 10\n",
            "10 5\n"
          ],
          "name": "stdout"
        }
      ]
    },
    {
      "cell_type": "code",
      "metadata": {
        "id": "x84UihjueHKc",
        "outputId": "422f32fe-e3f3-4f67-ac40-3fb62d89a7d5",
        "colab": {
          "base_uri": "https://localhost:8080/",
          "height": 84
        }
      },
      "source": [
        "import math\n",
        "a=int(input('1st side of triangle'))\n",
        "b=int(input('2nd side of the triangle'))\n",
        "c=int(input('3rd side od triangle'))\n",
        "p=(a+b+c)/2\n",
        "area=math.sqrt(p*(p-a)*(p-b)*(p-c))\n",
        "print('area=',area)"
      ],
      "execution_count": null,
      "outputs": [
        {
          "output_type": "stream",
          "text": [
            "1st side of triangle20\n",
            "2nd side of the triangle30\n",
            "3rd side od triangle25\n",
            "area= 248.03918541230536\n"
          ],
          "name": "stdout"
        }
      ]
    },
    {
      "cell_type": "code",
      "metadata": {
        "id": "OxGw_EMXhS8j",
        "outputId": "e7f88a8d-47a8-4728-bd29-804b2e28b4aa",
        "colab": {
          "base_uri": "https://localhost:8080/",
          "height": 50
        }
      },
      "source": [
        "import math\n",
        "a=1\n",
        "b=3\n",
        "c=-4\n",
        "dis=(b**2)-(4*a*c)\n",
        "root1=(-b+math.sqrt(dis))/(2*a)\n",
        "root2=(-b-math.sqrt(dis))/(2*a)\n",
        "print('root1=',root1)\n",
        "print('root2=',root2)"
      ],
      "execution_count": null,
      "outputs": [
        {
          "output_type": "stream",
          "text": [
            "root1= 1.0\n",
            "root2= -4.0\n"
          ],
          "name": "stdout"
        }
      ]
    },
    {
      "cell_type": "code",
      "metadata": {
        "id": "BK6wAmzgg169",
        "outputId": "4b25ddb1-ad2d-49c3-99fe-e79445e9640c",
        "colab": {
          "base_uri": "https://localhost:8080/",
          "height": 34
        }
      },
      "source": [
        "import random\n",
        "print(random.randint(0,9))"
      ],
      "execution_count": null,
      "outputs": [
        {
          "output_type": "stream",
          "text": [
            "7\n"
          ],
          "name": "stdout"
        }
      ]
    },
    {
      "cell_type": "code",
      "metadata": {
        "id": "O9IU9xY-kVn2",
        "outputId": "3565c03f-a710-40c7-bee7-b3031bfee6c3",
        "colab": {
          "base_uri": "https://localhost:8080/",
          "height": 84
        }
      },
      "source": [
        "dec=int(input('enter the decimal number'))\n",
        "print('binary equivalent is',bin(dec))\n",
        "print('octal eqivqlent is',oct(dec))\n",
        "print('hexa equivqlent is',hex(dec))"
      ],
      "execution_count": null,
      "outputs": [
        {
          "output_type": "stream",
          "text": [
            "enter the decimal number15\n",
            "binary equivalent is 0b1111\n",
            "octal eqivqlent is 0o17\n",
            "hexa equivqlent is 0xf\n"
          ],
          "name": "stdout"
        }
      ]
    },
    {
      "cell_type": "code",
      "metadata": {
        "id": "lE63G26qlDB1"
      },
      "source": [],
      "execution_count": null,
      "outputs": []
    }
  ]
}