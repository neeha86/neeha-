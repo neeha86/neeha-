{
  "nbformat": 4,
  "nbformat_minor": 0,
  "metadata": {
    "colab": {
      "name": "pythonVACassignment1.ipynb",
      "provenance": [],
      "include_colab_link": true
    },
    "kernelspec": {
      "name": "python3",
      "display_name": "Python 3"
    },
    "language_info": {
      "name": "python"
    }
  },
  "cells": [
    {
      "cell_type": "markdown",
      "metadata": {
        "id": "view-in-github",
        "colab_type": "text"
      },
      "source": [
        "<a href=\"https://colab.research.google.com/github/neeha86/neeha-/blob/main/pythonVACassignment1.ipynb\" target=\"_parent\"><img src=\"https://colab.research.google.com/assets/colab-badge.svg\" alt=\"Open In Colab\"/></a>"
      ]
    },
    {
      "cell_type": "markdown",
      "metadata": {
        "id": "5nX0NC-GeqNp"
      },
      "source": [
        "***question-1***"
      ]
    },
    {
      "cell_type": "code",
      "metadata": {
        "colab": {
          "base_uri": "https://localhost:8080/"
        },
        "id": "VrhLVxT6dOmn",
        "outputId": "9caf977f-5761-43fc-a9cc-85ecaa2f750c"
      },
      "source": [
        "def countCharacterType(str):\n",
        "\n",
        "    vowels = 0\n",
        "    consonant = 0\n",
        "    specialChar = 0\n",
        "    digit = 0\n",
        "  \n",
        "    for i in range(0, len(str)):\n",
        "         \n",
        "        ch = str[i]\n",
        " \n",
        "        if ( (ch >= 'a' and ch <= 'z') or\n",
        "             (ch >= 'A' and ch <= 'Z') ):\n",
        " \n",
        "           \n",
        "            ch = ch.lower()\n",
        " \n",
        "            if (ch == 'a' or ch == 'e' or ch == 'i'\n",
        "                        or ch == 'o' or ch == 'u'):\n",
        "                vowels += 1\n",
        "            else:\n",
        "                consonant += 1\n",
        "         \n",
        "        elif (ch >= '0' and ch <= '9'):\n",
        "            digit += 1\n",
        "        else:\n",
        "            specialChar += 1\n",
        "     \n",
        "    print(\"Vowels:\", vowels)\n",
        "    print(\"Consonant:\", consonant)\n",
        "    print(\"Digit:\", digit)\n",
        "    print(\"Special Character:\", specialChar)\n",
        " \n",
        "str = \"neeha tabassum768\"\n",
        "countCharacterType(str)"
      ],
      "execution_count": null,
      "outputs": [
        {
          "output_type": "stream",
          "text": [
            "Vowels: 6\n",
            "Consonant: 7\n",
            "Digit: 3\n",
            "Special Character: 1\n"
          ],
          "name": "stdout"
        }
      ]
    },
    {
      "cell_type": "markdown",
      "metadata": {
        "id": "T8l2v-JWexiu"
      },
      "source": [
        "***question-3***"
      ]
    },
    {
      "cell_type": "code",
      "metadata": {
        "colab": {
          "base_uri": "https://localhost:8080/"
        },
        "id": "KfMQ89vCexHo",
        "outputId": "0b0f665e-0897-4e2b-cc02-74333b657d73"
      },
      "source": [
        "def printFibnocciNumbers(n):\n",
        "  f1=0\n",
        "  f2=1\n",
        "  f3=1\n",
        "  if (n<1):\n",
        "    return\n",
        "  print(f1,end=\" \")\n",
        "  for x in range(1,n):\n",
        "    print(f2,end=\" \")\n",
        "    \n",
        "    next = f1 + f2 + f3\n",
        "    f1=f2\n",
        "    f2=f3\n",
        "    f3=next\n",
        "printFibnocciNumbers(8)"
      ],
      "execution_count": null,
      "outputs": [
        {
          "output_type": "stream",
          "text": [
            "0 1 1 2 4 7 13 24 "
          ],
          "name": "stdout"
        }
      ]
    },
    {
      "cell_type": "markdown",
      "metadata": {
        "id": "6QKNmaRCjuYB"
      },
      "source": [
        "***question-2***"
      ]
    },
    {
      "cell_type": "code",
      "metadata": {
        "colab": {
          "base_uri": "https://localhost:8080/"
        },
        "id": "Btn92nsAhseJ",
        "outputId": "a8079804-145c-4191-cf97-bec6278031e5"
      },
      "source": [
        "def firstLetterWord(str):\n",
        " \n",
        "    result = \"\"\n",
        "\n",
        "    v = True\n",
        "    for i in range(len(str)):\n",
        "         \n",
        "        if (str[i] == ' '):\n",
        "            v = True\n",
        "\n",
        "        elif (str[i] != ' ' and v == True):\n",
        "            result += (str[i])\n",
        "            v = False\n",
        " \n",
        "    return result\n",
        "if __name__ == \"__main__\":\n",
        "     \n",
        "    str = \"So Many Books, So Little Time\"\n",
        "    print(firstLetterWord(str))"
      ],
      "execution_count": null,
      "outputs": [
        {
          "output_type": "stream",
          "text": [
            "SMBSLT\n"
          ],
          "name": "stdout"
        }
      ]
    },
    {
      "cell_type": "markdown",
      "metadata": {
        "id": "jEhHr8oQlzRY"
      },
      "source": [
        "***question-4***"
      ]
    },
    {
      "cell_type": "code",
      "metadata": {
        "colab": {
          "base_uri": "https://localhost:8080/"
        },
        "id": "nLv3iZEVj4HH",
        "outputId": "07f8b603-8770-4fcc-db25-eadfc0881cfc"
      },
      "source": [
        "\n",
        "def countDigit(n):\n",
        "    count = 0\n",
        "    while n != 0:\n",
        "        n //= 10\n",
        "        count += 1\n",
        "    return count\n",
        "n = 58734659\n",
        "print(\"Number of digits : % d\" % (countDigit(n)))"
      ],
      "execution_count": null,
      "outputs": [
        {
          "output_type": "stream",
          "text": [
            "Number of digits :  8\n"
          ],
          "name": "stdout"
        }
      ]
    }
  ]
}