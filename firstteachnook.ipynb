{
  "nbformat": 4,
  "nbformat_minor": 0,
  "metadata": {
    "colab": {
      "name": "firstteachnook.ipynb",
      "provenance": [],
      "history_visible": true,
      "authorship_tag": "ABX9TyPoo5J+ChJdhheXc8+KeHep",
      "include_colab_link": true
    },
    "kernelspec": {
      "name": "python3",
      "display_name": "Python 3"
    },
    "language_info": {
      "name": "python"
    }
  },
  "cells": [
    {
      "cell_type": "markdown",
      "metadata": {
        "id": "view-in-github",
        "colab_type": "text"
      },
      "source": [
        "<a href=\"https://colab.research.google.com/github/neeha86/neeha-/blob/main/firstteachnook.ipynb\" target=\"_parent\"><img src=\"https://colab.research.google.com/assets/colab-badge.svg\" alt=\"Open In Colab\"/></a>"
      ]
    },
    {
      "cell_type": "markdown",
      "source": [
        "***first lesson***\n"
      ],
      "metadata": {
        "id": "HkdGBjBbidv7"
      }
    },
    {
      "cell_type": "code",
      "source": [
        "print(\"hello, world\")\n"
      ],
      "metadata": {
        "colab": {
          "base_uri": "https://localhost:8080/"
        },
        "id": "iLveEN9Mii04",
        "outputId": "15c708c3-df51-47d8-f42f-056badf2d85a"
      },
      "execution_count": null,
      "outputs": [
        {
          "output_type": "stream",
          "name": "stdout",
          "text": [
            "hello, world\n"
          ]
        }
      ]
    },
    {
      "cell_type": "code",
      "source": [
        "print(\"welcome\")\n",
        "print(\"all\")"
      ],
      "metadata": {
        "colab": {
          "base_uri": "https://localhost:8080/"
        },
        "id": "Rq1gwRJqirlT",
        "outputId": "2242a3df-6525-4966-9029-b4cbc1d7272f"
      },
      "execution_count": null,
      "outputs": [
        {
          "output_type": "stream",
          "name": "stdout",
          "text": [
            "welcome\n",
            "all\n"
          ]
        }
      ]
    },
    {
      "cell_type": "code",
      "source": [
        "x=2\n",
        "print(x)"
      ],
      "metadata": {
        "colab": {
          "base_uri": "https://localhost:8080/"
        },
        "id": "O8HJVVhciw9r",
        "outputId": "e52433ad-08ec-42c4-92c4-b7238385b3ad"
      },
      "execution_count": null,
      "outputs": [
        {
          "output_type": "stream",
          "name": "stdout",
          "text": [
            "2\n"
          ]
        }
      ]
    },
    {
      "cell_type": "code",
      "source": [
        "x=6\n",
        "y=3\n",
        "z=x+y\n",
        "print(z)"
      ],
      "metadata": {
        "colab": {
          "base_uri": "https://localhost:8080/"
        },
        "id": "_Mm6fzZIi4ao",
        "outputId": "726f04c4-ba37-4ff8-e548-f8cb2073222b"
      },
      "execution_count": null,
      "outputs": [
        {
          "output_type": "stream",
          "name": "stdout",
          "text": [
            "9\n"
          ]
        }
      ]
    },
    {
      "cell_type": "code",
      "source": [
        "x=3.5\n",
        "print(type(x))"
      ],
      "metadata": {
        "colab": {
          "base_uri": "https://localhost:8080/"
        },
        "id": "mbJcixM0jFQ7",
        "outputId": "39746ef3-cdfb-4c4b-d307-1ad6e2776f77"
      },
      "execution_count": null,
      "outputs": [
        {
          "output_type": "stream",
          "name": "stdout",
          "text": [
            "<class 'float'>\n"
          ]
        }
      ]
    },
    {
      "cell_type": "code",
      "source": [
        "name='neeha'\n",
        "print(type(name))"
      ],
      "metadata": {
        "colab": {
          "base_uri": "https://localhost:8080/"
        },
        "id": "TwCSKruZmirD",
        "outputId": "39196221-8980-43d9-f72b-fa29b4c33a8e"
      },
      "execution_count": null,
      "outputs": [
        {
          "output_type": "stream",
          "name": "stdout",
          "text": [
            "<class 'str'>\n"
          ]
        }
      ]
    },
    {
      "cell_type": "code",
      "source": [
        "x= True\n",
        "print(type(x))"
      ],
      "metadata": {
        "colab": {
          "base_uri": "https://localhost:8080/"
        },
        "id": "Vx6-zPKzmpiX",
        "outputId": "b449898c-5d50-4f17-a2d5-519d0d54e29c"
      },
      "execution_count": null,
      "outputs": [
        {
          "output_type": "stream",
          "name": "stdout",
          "text": [
            "<class 'bool'>\n"
          ]
        }
      ]
    },
    {
      "cell_type": "code",
      "source": [
        "name ='neeha tabassum'\n",
        "print(type(name))\n",
        "print(name[5 : 9])"
      ],
      "metadata": {
        "colab": {
          "base_uri": "https://localhost:8080/"
        },
        "id": "4uivyaphmvVj",
        "outputId": "7ced309f-c476-4d58-9375-e6222bd50d4e"
      },
      "execution_count": null,
      "outputs": [
        {
          "output_type": "stream",
          "name": "stdout",
          "text": [
            "<class 'str'>\n",
            " tab\n"
          ]
        }
      ]
    },
    {
      "cell_type": "code",
      "source": [
        "name=\"tom and jerry\"\n",
        "print(type(name))\n",
        "result= name.split()\n",
        "print(name[0:3] +\" \"+ name[8:]) "
      ],
      "metadata": {
        "id": "MSllkhVanxrT",
        "colab": {
          "base_uri": "https://localhost:8080/"
        },
        "outputId": "80817f25-25f5-49a3-8581-fbcb7900a8cc"
      },
      "execution_count": null,
      "outputs": [
        {
          "output_type": "stream",
          "name": "stdout",
          "text": [
            "<class 'str'>\n",
            "tom jerry\n"
          ]
        }
      ]
    },
    {
      "cell_type": "markdown",
      "source": [
        "Secong class"
      ],
      "metadata": {
        "id": "jccgZZzh3adB"
      }
    },
    {
      "cell_type": "code",
      "source": [
        "mylist = [\"A\",0, True]\n",
        "print(mylist)"
      ],
      "metadata": {
        "colab": {
          "base_uri": "https://localhost:8080/"
        },
        "id": "zWj3qsYD3MUI",
        "outputId": "91951dae-5478-45b3-c586-46c1489eaf02"
      },
      "execution_count": null,
      "outputs": [
        {
          "output_type": "stream",
          "name": "stdout",
          "text": [
            "['A', 0, True]\n"
          ]
        }
      ]
    },
    {
      "cell_type": "code",
      "source": [
        "mylist.append(\"c\")\n",
        "print(mylist)"
      ],
      "metadata": {
        "colab": {
          "base_uri": "https://localhost:8080/"
        },
        "id": "junn3WRF3tNy",
        "outputId": "2e88a692-d045-409a-fdcc-77558fab96b9"
      },
      "execution_count": null,
      "outputs": [
        {
          "output_type": "stream",
          "name": "stdout",
          "text": [
            "['A', 0, True, 'c']\n"
          ]
        }
      ]
    },
    {
      "cell_type": "code",
      "source": [
        "mylist[2]=1\n",
        "print(mylist)"
      ],
      "metadata": {
        "colab": {
          "base_uri": "https://localhost:8080/"
        },
        "id": "remFC2zt4OjS",
        "outputId": "b67339ca-f0d4-42fe-d3a9-52aa89758dc0"
      },
      "execution_count": null,
      "outputs": [
        {
          "output_type": "stream",
          "name": "stdout",
          "text": [
            "['A', 0, 1, 'c']\n"
          ]
        }
      ]
    },
    {
      "cell_type": "code",
      "source": [
        "tuple={\"A\",\"B\",\"C\"}\n",
        "print(tuple)"
      ],
      "metadata": {
        "colab": {
          "base_uri": "https://localhost:8080/"
        },
        "id": "jnHE2T2J5To6",
        "outputId": "763361db-9522-41fa-dbf1-4f808254233c"
      },
      "execution_count": null,
      "outputs": [
        {
          "output_type": "stream",
          "name": "stdout",
          "text": [
            "{'C', 'B', 'A'}\n"
          ]
        }
      ]
    },
    {
      "cell_type": "code",
      "source": [
        "def greet():\n",
        "  print(\"hello everyone\")\n",
        "greet()"
      ],
      "metadata": {
        "colab": {
          "base_uri": "https://localhost:8080/"
        },
        "id": "UsJF0zRN59J7",
        "outputId": "a7a521c9-fc3c-4196-80c6-d9a749096a94"
      },
      "execution_count": null,
      "outputs": [
        {
          "output_type": "stream",
          "name": "stdout",
          "text": [
            "hello everyone\n"
          ]
        }
      ]
    },
    {
      "cell_type": "code",
      "source": [
        "def greet(name):\n",
        "  print(\"hello everyone\" +name)\n",
        "greet(name)"
      ],
      "metadata": {
        "colab": {
          "base_uri": "https://localhost:8080/"
        },
        "id": "vTpIUc1K6xLh",
        "outputId": "24e59b67-1b28-4f91-cb66-f3419c4c3fa6"
      },
      "execution_count": null,
      "outputs": [
        {
          "output_type": "stream",
          "name": "stdout",
          "text": [
            "hello everyonetom and jerry\n"
          ]
        }
      ]
    },
    {
      "cell_type": "code",
      "source": [
        "mydic={\n",
        "    \"brand\":\"dell\",\n",
        "    \"color\":\"black\",\n",
        "    \"yearofmake\":2020\n",
        "}\n",
        "print(mydic)"
      ],
      "metadata": {
        "colab": {
          "base_uri": "https://localhost:8080/"
        },
        "id": "C4mdIBAh7Lqg",
        "outputId": "bed33fbe-6ed0-405c-9dd7-54f14243a825"
      },
      "execution_count": null,
      "outputs": [
        {
          "output_type": "stream",
          "name": "stdout",
          "text": [
            "{'brand': 'dell', 'color': 'black', 'yearofmake': 2020}\n"
          ]
        }
      ]
    },
    {
      "cell_type": "code",
      "source": [
        "mydic={\n",
        "    \"brand\":\"dell\",\n",
        "    \"color\":\"black\",\n",
        "    \"yearofmake\":2020\n",
        "}\n",
        "print(mydic[\"brand\"])"
      ],
      "metadata": {
        "colab": {
          "base_uri": "https://localhost:8080/"
        },
        "id": "BE5hgR5F865a",
        "outputId": "70642da4-830d-4d64-f63f-ccf5f173a375"
      },
      "execution_count": null,
      "outputs": [
        {
          "output_type": "stream",
          "name": "stdout",
          "text": [
            "dell\n"
          ]
        }
      ]
    },
    {
      "cell_type": "code",
      "source": [
        "mydic[\"model\"]=324\n",
        "print(mydic)"
      ],
      "metadata": {
        "colab": {
          "base_uri": "https://localhost:8080/"
        },
        "id": "R86l6v8G9sxD",
        "outputId": "ee57799e-054a-46d6-ce3b-af83a5480eb8"
      },
      "execution_count": null,
      "outputs": [
        {
          "output_type": "stream",
          "name": "stdout",
          "text": [
            "{'brand': 'dell', 'color': 'black', 'yearofmake': 2020, 'model': 324}\n"
          ]
        }
      ]
    },
    {
      "cell_type": "code",
      "source": [
        "del mydic[\"yearofmake\"]\n",
        "print(mydic)"
      ],
      "metadata": {
        "colab": {
          "base_uri": "https://localhost:8080/"
        },
        "id": "4noZ2v_v91la",
        "outputId": "2350fb35-b9bc-4acb-e645-6d7d392890f3"
      },
      "execution_count": null,
      "outputs": [
        {
          "output_type": "stream",
          "name": "stdout",
          "text": [
            "{'brand': 'dell', 'color': 'black', 'model': 324}\n"
          ]
        }
      ]
    },
    {
      "cell_type": "code",
      "source": [
        "def add(num1,num2):\n",
        "  print(num1+num2)\n",
        "add(11,2)"
      ],
      "metadata": {
        "colab": {
          "base_uri": "https://localhost:8080/"
        },
        "id": "meBw2EZW-EGO",
        "outputId": "4af42f9f-7032-4885-9f3b-1aea5081b6b9"
      },
      "execution_count": null,
      "outputs": [
        {
          "output_type": "stream",
          "name": "stdout",
          "text": [
            "13\n"
          ]
        }
      ]
    },
    {
      "cell_type": "code",
      "source": [
        "def sub(num1,num2):\n",
        "  print(num1-num2)\n",
        "sub(11,2)"
      ],
      "metadata": {
        "colab": {
          "base_uri": "https://localhost:8080/"
        },
        "id": "wQXAE5BO-wmF",
        "outputId": "167a2115-d2b5-4dba-ec7e-a10dc426490d"
      },
      "execution_count": null,
      "outputs": [
        {
          "output_type": "stream",
          "name": "stdout",
          "text": [
            "9\n"
          ]
        }
      ]
    },
    {
      "cell_type": "code",
      "source": [
        "def greet():\n",
        "  x=input(\"enter the name\")\n",
        "  print(\"hello \" + x)\n",
        "greet()"
      ],
      "metadata": {
        "colab": {
          "base_uri": "https://localhost:8080/"
        },
        "id": "z05kNeg4-7HX",
        "outputId": "da00f049-4792-4f54-e804-f34835f98534"
      },
      "execution_count": null,
      "outputs": [
        {
          "output_type": "stream",
          "name": "stdout",
          "text": [
            "enter the nameneeha\n",
            "hello neeha\n"
          ]
        }
      ]
    },
    {
      "cell_type": "code",
      "source": [
        "def greet():\n",
        "  x=int(input(\"enter the value\"))\n",
        "  y=int(input(\"enter the value\"))\n",
        "  print(x+y)\n",
        "greet()"
      ],
      "metadata": {
        "colab": {
          "base_uri": "https://localhost:8080/"
        },
        "id": "lesNfIpk_m6s",
        "outputId": "265df9c0-77c3-4742-f0e5-26c1e43d8802"
      },
      "execution_count": null,
      "outputs": [
        {
          "output_type": "stream",
          "name": "stdout",
          "text": [
            "enter the value5\n",
            "enter the value7\n",
            "12\n"
          ]
        }
      ]
    },
    {
      "cell_type": "code",
      "source": [
        "import math\n",
        "print(math.sin(0))"
      ],
      "metadata": {
        "colab": {
          "base_uri": "https://localhost:8080/"
        },
        "id": "1wLEu03dAW5K",
        "outputId": "61206b78-97b0-41ca-cbf9-b6488ba95800"
      },
      "execution_count": null,
      "outputs": [
        {
          "output_type": "stream",
          "name": "stdout",
          "text": [
            "0.0\n"
          ]
        }
      ]
    },
    {
      "cell_type": "code",
      "source": [
        "import math\n",
        "print(math.pi)"
      ],
      "metadata": {
        "colab": {
          "base_uri": "https://localhost:8080/"
        },
        "id": "KJec9MasDF-n",
        "outputId": "1510e11a-8a22-499f-94e5-528f8a476204"
      },
      "execution_count": null,
      "outputs": [
        {
          "output_type": "stream",
          "name": "stdout",
          "text": [
            "3.141592653589793\n"
          ]
        }
      ]
    },
    {
      "cell_type": "markdown",
      "source": [
        "class 3\n"
      ],
      "metadata": {
        "id": "tk7RDvC2jwA7"
      }
    },
    {
      "cell_type": "code",
      "source": [
        "import mymodule\n",
        "mymodule.greet(\"hello\" , \"welcome\")"
      ],
      "metadata": {
        "colab": {
          "base_uri": "https://localhost:8080/"
        },
        "id": "-9CLValRjxhX",
        "outputId": "14e0f2b5-a0f8-42b9-9a4e-c82318f5fef4"
      },
      "execution_count": null,
      "outputs": [
        {
          "output_type": "stream",
          "name": "stdout",
          "text": [
            "welcome hello\n"
          ]
        }
      ]
    },
    {
      "cell_type": "code",
      "source": [
        "myset = {\"a\" , 0 , True , \"b\"}\n",
        "print(myset)"
      ],
      "metadata": {
        "colab": {
          "base_uri": "https://localhost:8080/"
        },
        "id": "r4rgtg37lQw3",
        "outputId": "687ee8da-8fc7-487f-c080-920b165eb230"
      },
      "execution_count": null,
      "outputs": [
        {
          "output_type": "stream",
          "name": "stdout",
          "text": [
            "{0, True, 'a', 'b'}\n"
          ]
        }
      ]
    },
    {
      "cell_type": "code",
      "source": [
        "myset.add(\"c\")\n",
        "print(myset)"
      ],
      "metadata": {
        "colab": {
          "base_uri": "https://localhost:8080/"
        },
        "id": "_vXQvAcipy-k",
        "outputId": "812b4595-312b-43c3-cce8-611e3af19df4"
      },
      "execution_count": null,
      "outputs": [
        {
          "output_type": "stream",
          "name": "stdout",
          "text": [
            "{0, True, 'b', 'c', 'a'}\n"
          ]
        }
      ]
    },
    {
      "cell_type": "code",
      "source": [
        "myfrozenset = {0,1,\"A\",}\n",
        "print(myfrozenset)"
      ],
      "metadata": {
        "colab": {
          "base_uri": "https://localhost:8080/"
        },
        "id": "1ASK4W1np2aN",
        "outputId": "92c3e0d0-aa30-49f3-9eae-117641ecb7ee"
      },
      "execution_count": null,
      "outputs": [
        {
          "output_type": "stream",
          "name": "stdout",
          "text": [
            "{0, 1, 'A'}\n"
          ]
        }
      ]
    },
    {
      "cell_type": "code",
      "source": [
        "myfrozenset.add(\"B\")\n",
        "print(myfrozenset)"
      ],
      "metadata": {
        "colab": {
          "base_uri": "https://localhost:8080/"
        },
        "id": "7UBZ9OEnqWk0",
        "outputId": "a8a582d7-b193-4260-b029-3dfc9e4e526a"
      },
      "execution_count": null,
      "outputs": [
        {
          "output_type": "stream",
          "name": "stdout",
          "text": [
            "{0, 1, 'B', 'A'}\n"
          ]
        }
      ]
    },
    {
      "cell_type": "code",
      "source": [
        "myfrozenset = frozenset([0 , 1, \"a\"])\n",
        "print(myfrozenset)"
      ],
      "metadata": {
        "colab": {
          "base_uri": "https://localhost:8080/"
        },
        "id": "CnZnZYRuqdjq",
        "outputId": "53395f16-71b7-4d00-8162-d58b54bbbe95"
      },
      "execution_count": null,
      "outputs": [
        {
          "output_type": "stream",
          "name": "stdout",
          "text": [
            "frozenset({0, 1, 'a'})\n"
          ]
        }
      ]
    },
    {
      "cell_type": "code",
      "source": [],
      "metadata": {
        "id": "9vb-krUwq19Y"
      },
      "execution_count": null,
      "outputs": []
    }
  ]
}